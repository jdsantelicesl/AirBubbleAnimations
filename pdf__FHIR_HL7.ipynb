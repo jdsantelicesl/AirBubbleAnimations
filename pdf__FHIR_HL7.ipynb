{
  "nbformat": 4,
  "nbformat_minor": 0,
  "metadata": {
    "colab": {
      "provenance": []
    },
    "kernelspec": {
      "name": "python3",
      "display_name": "Python 3"
    },
    "language_info": {
      "name": "python"
    }
  },
  "cells": [
    {
      "cell_type": "code",
      "execution_count": 1,
      "metadata": {
        "id": "SakfeWjMS2f3"
      },
      "outputs": [],
      "source": [
        "%pip install --upgrade --quiet google-genai"
      ]
    },
    {
      "cell_type": "code",
      "source": [
        "import sys\n",
        "\n",
        "if \"google.colab\" in sys.modules:\n",
        "    from google.colab import auth\n",
        "\n",
        "    auth.authenticate_user()"
      ],
      "metadata": {
        "id": "Zss_1gJAVOlm"
      },
      "execution_count": 2,
      "outputs": []
    },
    {
      "cell_type": "code",
      "source": [
        "from IPython.display import HTML, Markdown, display\n",
        "from google import genai\n",
        "from google.genai.types import (\n",
        "    FunctionDeclaration,\n",
        "    GenerateContentConfig,\n",
        "    GoogleSearch,\n",
        "    HarmBlockThreshold,\n",
        "    HarmCategory,\n",
        "    MediaResolution,\n",
        "    Part,\n",
        "    Retrieval,\n",
        "    SafetySetting,\n",
        "    Tool,\n",
        "    ToolCodeExecution,\n",
        "    VertexAISearch,\n",
        ")"
      ],
      "metadata": {
        "id": "juoFgBlWVWVm"
      },
      "execution_count": 3,
      "outputs": []
    },
    {
      "cell_type": "code",
      "source": [
        "\n",
        "from google import genai\n",
        "from google.genai import types\n",
        "client = genai.Client(\n",
        "  vertexai=True, project=\"ai-patient-snapshot-001\", location=\"us-central1\",\n",
        ")"
      ],
      "metadata": {
        "id": "JvXBbRHtXYLM"
      },
      "execution_count": 4,
      "outputs": []
    },
    {
      "cell_type": "code",
      "source": [
        "!pip -q install fastapi uvicorn nest_asyncio python-multipart pypdf google-generativeai pyngrok"
      ],
      "metadata": {
        "id": "Pg2xyqHT56Kv"
      },
      "execution_count": 5,
      "outputs": []
    },
    {
      "cell_type": "code",
      "source": [
        "from google.colab import userdata\n",
        "from pyngrok import ngrok\n",
        "token = userdata.get(\"Grok2\")    # validate\n",
        "ngrok.set_auth_token(token)"
      ],
      "metadata": {
        "id": "_ElY_tEy8T9e"
      },
      "execution_count": 6,
      "outputs": []
    },
    {
      "cell_type": "code",
      "source": [],
      "metadata": {
        "id": "f5VpliMa7kQR"
      },
      "execution_count": 6,
      "outputs": []
    },
    {
      "cell_type": "code",
      "source": [
        "# ==============================\n",
        "# Imports\n",
        "# ==============================\n",
        "from fastapi import FastAPI, Request, HTTPException\n",
        "from fastapi.responses import JSONResponse\n",
        "from pyngrok import ngrok\n",
        "import json\n",
        "from IPython.display import Markdown\n",
        "from google import genai\n",
        "from google.genai import types\n",
        "import asyncio\n",
        "import time\n",
        "\n",
        "# Assume 'client' is already initialized above:\n",
        "# client = genai.Client(api_key=\"...\", project=\"...\", location=\"...\")\n",
        "\n",
        "# ==============================\n",
        "# Constants, helpers, and globals\n",
        "# ==============================\n",
        "MODEL_NAME = \"gemini-2.0-flash-001\"\n",
        "\n",
        "# ✅ UPDATED: Added \".xml\"\n",
        "ALLOWED_AUX_EXTS = {\".json\", \".ndjson\", \".hl7\", \".txt\", \".xml\"}\n",
        "\n",
        "def _ext(name: str) -> str:\n",
        "    name = (name or \"\").lower()\n",
        "    dot = name.rfind(\".\")\n",
        "    return name[dot:] if dot != -1 else \"\"\n",
        "\n",
        "def _is_allowed_aux(filename: str) -> bool:\n",
        "    return _ext(filename) in ALLOWED_AUX_EXTS\n",
        "\n",
        "# Colab globals (hold last uploaded non-PDF file and model summary)\n",
        "last_aux_filename = None   # e.g., \"patient.hl7\" / \"data.xml\"\n",
        "last_aux_bytes = None      # raw bytes of that file\n",
        "last_summary = None        # Python dict parsed from model JSON\n",
        "\n",
        "# ==============================\n",
        "# FastAPI app\n",
        "# ==============================\n",
        "app = FastAPI()\n",
        "\n",
        "# ------------------------------\n",
        "# Background task (optional local persistence)\n",
        "# ------------------------------\n",
        "async def long_processing(\n",
        "    pdf_bytes: bytes,\n",
        "    aux_bytes: bytes,\n",
        "    aux_filename: str,\n",
        "    json_summary: dict,\n",
        "):\n",
        "    import os, time, json as _json\n",
        "    os.makedirs(\"inbox\", exist_ok=True)\n",
        "    ts = int(time.time())  # timestamp for unique filenames\n",
        "\n",
        "    with open(f\"inbox/{ts}-report.pdf\", \"wb\") as f:\n",
        "        f.write(pdf_bytes)\n",
        "\n",
        "    with open(f\"inbox/{ts}-{aux_filename}\", \"wb\") as f:\n",
        "        f.write(aux_bytes)\n",
        "\n",
        "    with open(f\"inbox/{ts}-summary.json\", \"w\", encoding=\"utf-8\") as f:\n",
        "        _json.dump(json_summary, f, ensure_ascii=False, indent=2)\n",
        "\n",
        "    print(\"✅ Background processing finished & saved locally:\", ts)\n",
        "\n",
        "# ------------------------------\n",
        "# /process endpoint\n",
        "# ------------------------------\n",
        "@app.post(\"/process\")\n",
        "async def process(request: Request):\n",
        "    # Validate content-type\n",
        "    if not (request.headers.get(\"content-type\", \"\").lower().startswith(\"multipart/\")):\n",
        "        raise HTTPException(415, \"Expected multipart/form-data\")\n",
        "\n",
        "    # Parse form & files\n",
        "    form = await request.form()\n",
        "\n",
        "    pdf = form.get(\"pdf\")  # required\n",
        "    # Accept one of these for the non-PDF file\n",
        "    aux = form.get(\"fhir\") or form.get(\"aux\") or form.get(\"file2\")\n",
        "\n",
        "    if pdf is None or aux is None:\n",
        "        raise HTTPException(422, \"Two files required: 'pdf' and one of ['fhir','aux','file2'].\")\n",
        "\n",
        "    pdf_bytes = await pdf.read()\n",
        "    aux_bytes = await aux.read()\n",
        "\n",
        "    if not pdf_bytes:\n",
        "        raise HTTPException(400, \"Empty 'pdf' file received\")\n",
        "    if not aux_bytes:\n",
        "        raise HTTPException(400, \"Empty auxiliary file received\")\n",
        "\n",
        "    # Enforce allowed extensions for the auxiliary file (now includes .xml)\n",
        "    if not _is_allowed_aux(aux.filename or \"\"):\n",
        "        raise HTTPException(\n",
        "            415,\n",
        "            \"Unsupported auxiliary file type. Allowed: .json, .ndjson, .hl7, .txt, .xml\",\n",
        "        )\n",
        "\n",
        "    print(\n",
        "        f\"✅ Received: pdf={pdf.filename} ({len(pdf_bytes)} bytes), \"\n",
        "        f\"aux={aux.filename} ({len(aux_bytes)} bytes)\"\n",
        "    )\n",
        "\n",
        "    # Build model input (PDF Part)\n",
        "    pdf_part = types.Part(\n",
        "        inline_data=types.Blob(\n",
        "            mime_type=\"application/pdf\",\n",
        "            data=pdf_bytes,\n",
        "        )\n",
        "    )\n",
        "\n",
        "    prompt = f\"\"\"\n",
        "    You will receive a medical report as a PDF.\n",
        "\n",
        "    Extract the items below and return a STRICT JSON object.\n",
        "\n",
        "    Rules:\n",
        "    - Return ONLY JSON (no prose, no Markdown, no code fences).\n",
        "    - Every item listed must be a top-level key.\n",
        "    - If a value is missing, use null.\n",
        "    - Use the coding systems as indicated (SNOMED CT, RxNorm, LOINC, CVX/MVX, UCUM).\n",
        "\n",
        "    Required schema (keys always present; values can be null):\n",
        "    {{\n",
        "      \"patient_name\": string|null,\n",
        "      \"sex\": {{\"code\": string, \"display\": string}}|null,\n",
        "      \"date_of_birth\": string|null,\n",
        "\n",
        "      \"race\": [{{\"code\": string, \"display\": string, \"omb_min_category\": string}}]|null,\n",
        "      \"ethnicity\": [{{\"code\": string, \"display\": string, \"omb_min_category\": string}}]|null,\n",
        "      \"preferred_language\": {{\"code\": string, \"display\": string}}|null,\n",
        "      \"smoking_status\": string|null,\n",
        "\n",
        "      \"problems\": [{{\"code\": string, \"system\": \"SNOMED CT\", \"display\": string}}]|null,\n",
        "      \"medications\": [{{\"rxnorm_code\": string, \"display\": string}}]|null,\n",
        "      \"medication_allergies\": [{{\"substance_code\": string, \"system\": \"RxNorm\", \"display\": string}}]|null,\n",
        "\n",
        "      \"laboratory_tests\": [{{\"loinc_code\": string, \"display\": string}}]|null,\n",
        "      \"laboratory_results\": [\n",
        "        {{\"test_loinc\": string|null, \"value\": string|number, \"unit\": string|null, \"display\": string|null}}\n",
        "      ]|null,\n",
        "\n",
        "      \"vital_signs\": {{\n",
        "        \"systolic_bp\": {{\"value\": number, \"unit\": string}}|null,\n",
        "        \"diastolic_bp\": {{\"value\": number, \"unit\": string}}|null,\n",
        "        \"height\": {{\"value\": number, \"unit\": string}}|null,\n",
        "        \"weight\": {{\"value\": number, \"unit\": string}}|null,\n",
        "        \"heart_rate\": {{\"value\": number, \"unit\": string}}|null,\n",
        "        \"resp_rate\": {{\"value\": number, \"unit\": string}}|null,\n",
        "        \"temperature\": {{\"value\": number, \"unit\": string}}|null,\n",
        "        \"spo2\": {{\"value\": number, \"unit\": string}}|null,\n",
        "        \"fio2\": {{\"value\": number, \"unit\": string}}|null,\n",
        "        \"pediatrics_optional\": {{\n",
        "          \"bmi_percentile\": number|null,\n",
        "          \"weight_for_length_percentile\": number|null,\n",
        "          \"head_circumference\": {{\"value\": number, \"unit\": string}}|null,\n",
        "          \"growth_reference\": string|null\n",
        "        }}|null\n",
        "      }}|null,\n",
        "\n",
        "      \"procedures\": [{{\"code\": string, \"system\": string, \"display\": string}}]|null,\n",
        "      \"care_team\": [{{\"name\": string|null, \"role\": string|null, \"npi\": string|null}}]|null,\n",
        "      \"immunizations\": [{{\"cvx\": string, \"mvx\": string|null, \"display\": string, \"date\": string|null}}]|null,\n",
        "      \"udi_implants\": [{{\"udi\": string, \"description\": string|null}}]|null,\n",
        "\n",
        "      \"assessment_and_plan\": string|null,\n",
        "      \"goals\": [string]|null,\n",
        "      \"health_concerns\": [string]|null\n",
        "    }}\n",
        "    \"\"\"\n",
        "\n",
        "    generation_config = types.GenerateContentConfig(\n",
        "        response_mime_type=\"application/json\"  # force pure JSON\n",
        "    )\n",
        "\n",
        "    # Call model and parse JSON\n",
        "    resp = client.models.generate_content(\n",
        "        model=MODEL_NAME,\n",
        "        contents=[pdf_part, prompt],\n",
        "        config=generation_config,\n",
        "    )\n",
        "\n",
        "    try:\n",
        "        summary = json.loads(resp.text)\n",
        "    except Exception:\n",
        "        cleaned = resp.text.strip()\n",
        "        if cleaned.startswith(\"```\"):\n",
        "            cleaned = cleaned.strip(\"`\")\n",
        "            first_nl = cleaned.find(\"\\n\")\n",
        "            if first_nl != -1:\n",
        "                cleaned = cleaned[first_nl + 1 :]\n",
        "        summary = json.loads(cleaned)\n",
        "\n",
        "    # Stash into Colab globals\n",
        "    global last_aux_filename, last_aux_bytes, last_summary\n",
        "    last_aux_filename = aux.filename\n",
        "    last_aux_bytes = aux_bytes\n",
        "    last_summary = summary\n",
        "\n",
        "    # 6) Kick off background persistence (optional)\n",
        "    asyncio.create_task(\n",
        "        long_processing(\n",
        "            pdf_bytes=pdf_bytes,\n",
        "            aux_bytes=aux_bytes,\n",
        "            aux_filename=aux.filename or \"aux_file\",\n",
        "            json_summary=summary,\n",
        "        )\n",
        "    )\n",
        "\n",
        "    # Return the same UI contract\n",
        "    return JSONResponse({\"status\": \"received\"}, status_code=202)\n",
        "\n",
        "\n",
        "# ==============================\n",
        "# Expose via ngrok and run server\n",
        "# ==============================\n",
        "public_url = ngrok.connect(8000).public_url\n",
        "print(\"Gemini endpoint:\", public_url)\n",
        "\n",
        "import nest_asyncio\n",
        "nest_asyncio.apply()\n",
        "\n",
        "import uvicorn\n",
        "uvicorn.run(app, host=\"0.0.0.0\", port=8000)\n"
      ],
      "metadata": {
        "id": "eqFjcwZfdlSl",
        "outputId": "0e6f35f8-d302-431b-eb4a-1759714b55f1",
        "colab": {
          "base_uri": "https://localhost:8080/"
        }
      },
      "execution_count": 19,
      "outputs": [
        {
          "output_type": "stream",
          "name": "stderr",
          "text": [
            "ERROR:asyncio:Task exception was never retrieved\n",
            "future: <Task finished name='Task-7' coro=<Server.serve() done, defined at /usr/local/lib/python3.12/dist-packages/uvicorn/server.py:69> exception=KeyboardInterrupt()>\n",
            "Traceback (most recent call last):\n",
            "  File \"/usr/local/lib/python3.12/dist-packages/uvicorn/main.py\", line 580, in run\n",
            "    server.run()\n",
            "  File \"/usr/local/lib/python3.12/dist-packages/uvicorn/server.py\", line 67, in run\n",
            "    return asyncio.run(self.serve(sockets=sockets))\n",
            "           ^^^^^^^^^^^^^^^^^^^^^^^^^^^^^^^^^^^^^^^^\n",
            "  File \"/usr/local/lib/python3.12/dist-packages/nest_asyncio.py\", line 30, in run\n",
            "    return loop.run_until_complete(task)\n",
            "           ^^^^^^^^^^^^^^^^^^^^^^^^^^^^^\n",
            "  File \"/usr/local/lib/python3.12/dist-packages/nest_asyncio.py\", line 92, in run_until_complete\n",
            "    self._run_once()\n",
            "  File \"/usr/local/lib/python3.12/dist-packages/nest_asyncio.py\", line 133, in _run_once\n",
            "    handle._run()\n",
            "  File \"/usr/lib/python3.12/asyncio/events.py\", line 88, in _run\n",
            "    self._context.run(self._callback, *self._args)\n",
            "  File \"/usr/lib/python3.12/asyncio/tasks.py\", line 396, in __wakeup\n",
            "    self.__step()\n",
            "  File \"/usr/lib/python3.12/asyncio/tasks.py\", line 303, in __step\n",
            "    self.__step_run_and_handle_result(exc)\n",
            "  File \"/usr/lib/python3.12/asyncio/tasks.py\", line 314, in __step_run_and_handle_result\n",
            "    result = coro.send(None)\n",
            "             ^^^^^^^^^^^^^^^\n",
            "  File \"/usr/local/lib/python3.12/dist-packages/uvicorn/server.py\", line 70, in serve\n",
            "    with self.capture_signals():\n",
            "         ^^^^^^^^^^^^^^^^^^^^^^\n",
            "  File \"/usr/lib/python3.12/contextlib.py\", line 144, in __exit__\n",
            "    next(self.gen)\n",
            "  File \"/usr/local/lib/python3.12/dist-packages/uvicorn/server.py\", line 331, in capture_signals\n",
            "    signal.raise_signal(captured_signal)\n",
            "KeyboardInterrupt\n"
          ]
        },
        {
          "output_type": "stream",
          "name": "stdout",
          "text": [
            "Gemini endpoint: https://6fd1d4e6f44d.ngrok-free.app\n"
          ]
        },
        {
          "output_type": "stream",
          "name": "stderr",
          "text": [
            "INFO:     Started server process [8012]\n",
            "INFO:     Waiting for application startup.\n",
            "INFO:     Application startup complete.\n",
            "INFO:     Uvicorn running on http://0.0.0.0:8000 (Press CTRL+C to quit)\n"
          ]
        },
        {
          "output_type": "stream",
          "name": "stdout",
          "text": [
            "✅ Received: pdf=lab.pdf (320302 bytes), aux=Patient_Marco.bundle (1).json (29269 bytes)\n",
            "INFO:     2607:f140:400:4f:751e:1c7d:dc81:1f53:0 - \"POST /process HTTP/1.1\" 202 Accepted\n",
            "✅ Background processing finished & saved locally: 1759126596\n"
          ]
        },
        {
          "output_type": "stream",
          "name": "stderr",
          "text": [
            "INFO:     Shutting down\n",
            "INFO:     Waiting for application shutdown.\n",
            "INFO:     Application shutdown complete.\n",
            "INFO:     Finished server process [8012]\n"
          ]
        }
      ]
    },
    {
      "cell_type": "code",
      "source": [
        "import pprint, json\n",
        "\n",
        "# Dict summary\n",
        "print(\"Summary:\")\n",
        "pprint.pprint(last_summary)\n",
        "\n",
        "print(\"\\nFile name:\")\n",
        "print(last_aux_filename)\n",
        "\n",
        "print(\"\\nBytes (pretty JSON):\")\n",
        "print(json.dumps(json.loads(last_aux_bytes.decode()), indent=4)[:1000])\n"
      ],
      "metadata": {
        "id": "wdTg_MpMfDu4",
        "outputId": "aa8a6bfc-91f5-4c1f-e8ac-7e89fcbb8fe2",
        "colab": {
          "base_uri": "https://localhost:8080/"
        }
      },
      "execution_count": 20,
      "outputs": [
        {
          "output_type": "stream",
          "name": "stdout",
          "text": [
            "Summary:\n",
            "{'assessment_and_plan': None,\n",
            " 'care_team': [{'name': 'Kathryn Pebanco', 'npi': None, 'role': 'NP'},\n",
            "               {'name': 'Vannessa Cestino', 'npi': None, 'role': 'NP'}],\n",
            " 'date_of_birth': '5/28/2004',\n",
            " 'ethnicity': None,\n",
            " 'goals': None,\n",
            " 'health_concerns': None,\n",
            " 'immunizations': [],\n",
            " 'laboratory_results': [{'display': 'Induration',\n",
            "                         'test_loinc': '3134-4',\n",
            "                         'unit': 'mm',\n",
            "                         'value': 0},\n",
            "                        {'display': 'Negative',\n",
            "                         'test_loinc': '3134-4',\n",
            "                         'unit': None,\n",
            "                         'value': None}],\n",
            " 'laboratory_tests': [{'display': 'TB skin test', 'loinc_code': '3134-4'}],\n",
            " 'medication_allergies': None,\n",
            " 'medications': None,\n",
            " 'patient_name': 'Marco Rotundo',\n",
            " 'preferred_language': None,\n",
            " 'problems': None,\n",
            " 'procedures': [{'code': None,\n",
            "                 'display': 'Tuberculin Skin Test',\n",
            "                 'system': 'TST'}],\n",
            " 'race': None,\n",
            " 'sex': None,\n",
            " 'smoking_status': None,\n",
            " 'udi_implants': [],\n",
            " 'vital_signs': None}\n",
            "\n",
            "File name:\n",
            "Patient_Marco.bundle (1).json\n",
            "\n",
            "Bytes (pretty JSON):\n",
            "{\n",
            "    \"resourceType\": \"Bundle\",\n",
            "    \"type\": \"collection\",\n",
            "    \"id\": \"bundle-ccf4378a\",\n",
            "    \"entry\": [\n",
            "        {\n",
            "            \"resource\": {\n",
            "                \"resourceType\": \"Patient\",\n",
            "                \"id\": \"patient-marco\",\n",
            "                \"identifier\": [\n",
            "                    {\n",
            "                        \"system\": \"http://hospital.example.org/mrn\",\n",
            "                        \"value\": \"MRN-F7110B\"\n",
            "                    },\n",
            "                    {\n",
            "                        \"system\": \"http://driverslicense.example.org/ca\",\n",
            "                        \"value\": \"DLA-0DFBD5E0\"\n",
            "                    }\n",
            "                ],\n",
            "                \"name\": [\n",
            "                    {\n",
            "                        \"use\": \"official\",\n",
            "                        \"family\": \"Rotundo Barbosa\",\n",
            "                        \"given\": [\n",
            "                            \"Marco\",\n",
            "                            \"Antonio\"\n",
            "                        ]\n",
            "                    }\n",
            "                ],\n",
            "                \"gender\": \"male\",\n",
            "                \"birthDate\": \"2004-05-28\",\n",
            "     \n"
          ]
        }
      ]
    },
    {
      "cell_type": "code",
      "source": [
        "#for creating ids, shoutout to chatgpt\n",
        "import secrets, uuid, hashlib\n",
        "\n",
        "def generate_entry(prefix):\n",
        "   return {\n",
        "      \"resource\": {\n",
        "          \"resourceType\": None,\n",
        "          \"id\": f\"{prefix}-{secrets.token_hex(4)}\"\n",
        "      }\n",
        "  }\n",
        "\n",
        "summary = last_summary     #nombre mas bonito\n",
        "fhir_bundle = json.loads(last_aux_bytes.decode())  # bytes -> str -> dict"
      ],
      "metadata": {
        "id": "Tdbp0kdxvmkX"
      },
      "execution_count": 21,
      "outputs": []
    },
    {
      "cell_type": "code",
      "source": [
        "types = []\n",
        "for i in fhir_bundle['entry']:\n",
        "  types.append(i['resource']['resourceType'])\n",
        "\n",
        "set(types)"
      ],
      "metadata": {
        "id": "D8WDcguS8XQC",
        "outputId": "a0e92147-a06a-4f26-a46c-c74c0e3d3335",
        "colab": {
          "base_uri": "https://localhost:8080/"
        }
      },
      "execution_count": 22,
      "outputs": [
        {
          "output_type": "execute_result",
          "data": {
            "text/plain": [
              "{'Claim',\n",
              " 'Condition',\n",
              " 'Coverage',\n",
              " 'DiagnosticReport',\n",
              " 'DocumentReference',\n",
              " 'Encounter',\n",
              " 'ExplanationOfBenefit',\n",
              " 'Observation',\n",
              " 'Organization',\n",
              " 'Patient',\n",
              " 'Practitioner'}"
            ]
          },
          "metadata": {},
          "execution_count": 22
        }
      ]
    },
    {
      "cell_type": "markdown",
      "source": [
        "Marco tiene que cambiar los keys de dic, para que sean como los de un archivo fhir real y que no hayan ningun NONE en los entries"
      ],
      "metadata": {
        "id": "Z1CnNOuo9tX_"
      }
    },
    {
      "cell_type": "code",
      "source": [
        "# lee bien lo que te envie en whatsaap\n",
        "# si no lo entiendes eres gay :v\n",
        "\n",
        "#make a dict of all possible entry types and what summary keys can go in them\n",
        "#skip patient for the demo\n",
        "\n",
        "dic = {\n",
        "    \"Observation\": [\"smoking_status\",\"laboratory_results\",\"vital_signs\"],\n",
        "\n",
        "    \"Condition\": [\"problems\",\"health_concerns\"],\n",
        "\n",
        "    \"MedicationRequest\": [\"medications\"],\n",
        "\n",
        "    \"AllergyIntolerance\": [\"medication_allergies\"],\n",
        "\n",
        "    \"ServiceRequest/Procedure\": [\"laboratory_tests\",\"procedures\"],\n",
        "\n",
        "    \"CareTeam\": [\"care_team\"],\n",
        "\n",
        "    \"Immunization\": [\"immunizations\"],\n",
        "\n",
        "    \"Device\": [\"udi_implants\"],\n",
        "\n",
        "    \"CarePlan\": [\"assessment_and_plan\"],\n",
        "\n",
        "    \"Goal\": [\"goals\"]\n",
        "}\n",
        "\n",
        "# make a list of entries\n",
        "entries = []\n",
        "\n",
        "# loop through all possible entry types\n",
        "for key in dic.keys():\n",
        "  # generate an entry and give it an id\n",
        "  entry = generate_entry(key[:3].lower())\n",
        "  entry['resource']['resourceType'] = key\n",
        "  # loop through all possible summary keys for the entry type\n",
        "  for i in dic[key]:\n",
        "    # if the value of the key isnt empty then add it\n",
        "    if summary[i] is not None:\n",
        "      entry['resource'][i] = summary[i]\n",
        "  # if the new entry actual has stuff in it add it to entries\n",
        "  if len(entry['resource'].keys()) > 2:\n",
        "    # just for reference\n",
        "    print(f\"Generated a bundle of type: {key} \\n\")\n",
        "    entries.append(entry)\n",
        "    pprint.pprint(entry)\n",
        "    print('\\n \\n \\n')\n",
        "\n"
      ],
      "metadata": {
        "id": "_oe3iwZMpjWW",
        "outputId": "32045ec8-b659-4698-d4b5-f4a4ea048ec7",
        "colab": {
          "base_uri": "https://localhost:8080/"
        }
      },
      "execution_count": 23,
      "outputs": [
        {
          "output_type": "stream",
          "name": "stdout",
          "text": [
            "Generated a bundle of type: Observation \n",
            "\n",
            "{'resource': {'id': 'obs-6305282d',\n",
            "              'laboratory_results': [{'display': 'Induration',\n",
            "                                      'test_loinc': '3134-4',\n",
            "                                      'unit': 'mm',\n",
            "                                      'value': 0},\n",
            "                                     {'display': 'Negative',\n",
            "                                      'test_loinc': '3134-4',\n",
            "                                      'unit': None,\n",
            "                                      'value': None}],\n",
            "              'resourceType': 'Observation'}}\n",
            "\n",
            " \n",
            " \n",
            "\n",
            "Generated a bundle of type: ServiceRequest/Procedure \n",
            "\n",
            "{'resource': {'id': 'ser-fc4a0f46',\n",
            "              'laboratory_tests': [{'display': 'TB skin test',\n",
            "                                    'loinc_code': '3134-4'}],\n",
            "              'procedures': [{'code': None,\n",
            "                              'display': 'Tuberculin Skin Test',\n",
            "                              'system': 'TST'}],\n",
            "              'resourceType': 'ServiceRequest/Procedure'}}\n",
            "\n",
            " \n",
            " \n",
            "\n",
            "Generated a bundle of type: CareTeam \n",
            "\n",
            "{'resource': {'care_team': [{'name': 'Kathryn Pebanco',\n",
            "                             'npi': None,\n",
            "                             'role': 'NP'},\n",
            "                            {'name': 'Vannessa Cestino',\n",
            "                             'npi': None,\n",
            "                             'role': 'NP'}],\n",
            "              'id': 'car-4958716d',\n",
            "              'resourceType': 'CareTeam'}}\n",
            "\n",
            " \n",
            " \n",
            "\n",
            "Generated a bundle of type: Immunization \n",
            "\n",
            "{'resource': {'id': 'imm-39b165a1',\n",
            "              'immunizations': [],\n",
            "              'resourceType': 'Immunization'}}\n",
            "\n",
            " \n",
            " \n",
            "\n",
            "Generated a bundle of type: Device \n",
            "\n",
            "{'resource': {'id': 'dev-00135297',\n",
            "              'resourceType': 'Device',\n",
            "              'udi_implants': []}}\n",
            "\n",
            " \n",
            " \n",
            "\n"
          ]
        }
      ]
    },
    {
      "cell_type": "code",
      "source": [
        "# add new entries to fhir file\n",
        "print(len(fhir_bundle['entry']))\n",
        "for entry in entries:\n",
        "  fhir_bundle['entry'].append(entry)\n",
        "print(len(fhir_bundle['entry']))"
      ],
      "metadata": {
        "id": "m7YkvP-v45-X",
        "outputId": "df32ef71-751f-4530-ca98-c3e65729cc62",
        "colab": {
          "base_uri": "https://localhost:8080/"
        }
      },
      "execution_count": 24,
      "outputs": [
        {
          "output_type": "stream",
          "name": "stdout",
          "text": [
            "25\n",
            "30\n"
          ]
        }
      ]
    },
    {
      "cell_type": "markdown",
      "source": [
        "Ahora lo que tienes que hacer Juan Diego es mandar el fhir_bundle al Ui y highlight los entries nuevos. Tambien mandar la nueva version del fhir file y borra la vieja.\n",
        "\n",
        "Borra toda la data que entro por streamlit"
      ],
      "metadata": {
        "id": "7lL3dRIz5QQe"
      }
    },
    {
      "cell_type": "code",
      "source": [
        "!pip install flask\n",
        "\n"
      ],
      "metadata": {
        "id": "qiR7lRY85vT6",
        "outputId": "1757b49e-05eb-4f6f-9d7d-f6759707439f",
        "colab": {
          "base_uri": "https://localhost:8080/"
        }
      },
      "execution_count": 16,
      "outputs": [
        {
          "output_type": "stream",
          "name": "stdout",
          "text": [
            "Requirement already satisfied: flask in /usr/local/lib/python3.12/dist-packages (3.1.2)\n",
            "Requirement already satisfied: blinker>=1.9.0 in /usr/local/lib/python3.12/dist-packages (from flask) (1.9.0)\n",
            "Requirement already satisfied: click>=8.1.3 in /usr/local/lib/python3.12/dist-packages (from flask) (8.2.1)\n",
            "Requirement already satisfied: itsdangerous>=2.2.0 in /usr/local/lib/python3.12/dist-packages (from flask) (2.2.0)\n",
            "Requirement already satisfied: jinja2>=3.1.2 in /usr/local/lib/python3.12/dist-packages (from flask) (3.1.6)\n",
            "Requirement already satisfied: markupsafe>=2.1.1 in /usr/local/lib/python3.12/dist-packages (from flask) (3.0.2)\n",
            "Requirement already satisfied: werkzeug>=3.1.0 in /usr/local/lib/python3.12/dist-packages (from flask) (3.1.3)\n"
          ]
        }
      ]
    },
    {
      "cell_type": "code",
      "source": [
        "from flask import Flask, jsonify\n",
        "from pyngrok import ngrok\n",
        "\n",
        "app = Flask(__name__)\n",
        "\n",
        "@app.route(\"/data\", methods=[\"GET\"])\n",
        "def get_data():\n",
        "    return jsonify(fhir_bundle), 200\n",
        "\n",
        "if __name__ == \"__main__\":\n",
        "    # Open a public ngrok tunnel on port 5000\n",
        "    public_url = ngrok.connect(5000)\n",
        "    print(\" * ngrok tunnel URL:\", public_url)\n",
        "\n",
        "    # Run Flask app\n",
        "    app.run(port=5000)"
      ],
      "metadata": {
        "id": "xDv00ZT3Cmxz",
        "outputId": "42d8b50e-e47e-4ee2-c2b3-a2e7e1a73dac",
        "colab": {
          "base_uri": "https://localhost:8080/"
        }
      },
      "execution_count": 25,
      "outputs": [
        {
          "output_type": "stream",
          "name": "stdout",
          "text": [
            " * ngrok tunnel URL: NgrokTunnel: \"https://ce5f010883be.ngrok-free.app\" -> \"http://localhost:5000\"\n",
            " * Serving Flask app '__main__'\n",
            " * Debug mode: off\n"
          ]
        },
        {
          "output_type": "stream",
          "name": "stderr",
          "text": [
            "INFO:werkzeug:\u001b[31m\u001b[1mWARNING: This is a development server. Do not use it in a production deployment. Use a production WSGI server instead.\u001b[0m\n",
            " * Running on http://127.0.0.1:5000\n",
            "INFO:werkzeug:\u001b[33mPress CTRL+C to quit\u001b[0m\n",
            "INFO:werkzeug:127.0.0.1 - - [29/Sep/2025 06:17:36] \"GET /data HTTP/1.1\" 200 -\n"
          ]
        }
      ]
    }
  ]
}